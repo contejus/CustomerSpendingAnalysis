{
 "cells": [
  {
   "cell_type": "markdown",
   "metadata": {},
   "source": [
    "# Predicting customer spending at the store"
   ]
  },
  {
   "cell_type": "markdown",
   "metadata": {},
   "source": [
    "_Given a list of customers, their basic info, and their purchase categories (tech, fashion, etc.), can we predict the total amount they will spend at the store?_"
   ]
  },
  {
   "cell_type": "markdown",
   "metadata": {},
   "source": [
    "# Table of contents\n",
    "1. [Background](#Background)\n",
    "2. [Data ingestion](#Data-ingestion)\n",
    "3. [Data preprocessing](#Data-preprocessing)\n",
    "4. [Exploratory Data Analysis](#EDA)\n",
    "5. [Model Training](#Model-Training)\n",
    "6. [Testing the Model](#Testing-the-Model)\n",
    "7. [Conclusion](#Conclusion)\n",
    "8. [Credits](#Credits)"
   ]
  },
  {
   "cell_type": "markdown",
   "metadata": {},
   "source": [
    "# Background"
   ]
  },
  {
   "cell_type": "markdown",
   "metadata": {},
   "source": [
    "## Purpose"
   ]
  },
  {
   "cell_type": "markdown",
   "metadata": {},
   "source": [
    "Managing a retail store is extremely challenging. With the rise of online purchasing platforms like Amazon or Rakuten, brick-and-mortar store sales are declining at a staggering rate. In 2017, [Statista](https://www.statista.com/statistics/242512/online-retail-visitors-in-the-us-by-age-group/) reported that 67% of millennials and 56% of Generation X prefer online shopping to physical store purchases.  \n",
    "\n",
    "However, brick-and-mortar stores aren't close to extinct. The [U.S. Department of Commerce](https://www.census.gov/retail/index.html) reported a 2% increase in sales for brick-and-mortar stores.  \n",
    "\n",
    "To compete with online retail, these stores have to optimize their sales strategy as much as possible. One way to achieve this is through machine learning.  \n",
    "\n",
    "Cocolevio's machine learning models can tell you what products are selling best, and how much of said product to stock in your store, so you can stop wasting money on inventory that won't sell. "
   ]
  },
  {
   "cell_type": "markdown",
   "metadata": {},
   "source": [
    "## Introduction"
   ]
  },
  {
   "cell_type": "markdown",
   "metadata": {},
   "source": [
    "In this notebook, I used a public dataset from Kaggle, found [HERE](https://www.kaggle.com/mehdidag/black-friday). Thanks in advance to Mehdi Dagdoug and Kaggle for bringing this dataset to the public. Thanks to Analytics Vidhya as well for providing the original dataset. "
   ]
  },
  {
   "cell_type": "markdown",
   "metadata": {},
   "source": [
    "The main problem we are trying to solve here is a regression problem. We will try to predict the total purchase amount given the dataset columns.\n",
    "\n",
    "The dataset columns contain the following information:  \n",
    "\n",
    "**User_ID, Product_ID, Gender, Purchase** - These should all be self-explanatory, Purchase is in dollars, Product_ID is unique code representing the product.  \n",
    "\n",
    "**Age** - A set of ranges (eg. 0-17, 26-35) representing the age group purchasing.  \n",
    "\n",
    "**Occupation** - Customer job. I could not find the mappings from numbers to occupations anywhere, I assume AnalyticsVidhya has hidden them away.  \n",
    "\n",
    "**City Category** - The mapping is hidden for this column as well, which is unfortunate, but we will still try to model with this column.  \n",
    "\n",
    "**Stay_In_Current_City_Years** - A range of values from 1 to '4+' representing customer's stay in current city. There are no values beyond 1, 2, 3, 4+.  \n",
    "\n",
    "**Marital_Status** - There are no mappings for this column, I assumed 0 is not married and 1 is married.  \n",
    "\n",
    "**Product_Category_1/2/3** - Again, no mappings. We will just have to work with what we have right now. This could possible represent fields such as tech, fashion, etc. "
   ]
  },
  {
   "cell_type": "markdown",
   "metadata": {},
   "source": [
    "# Data ingestion"
   ]
  },
  {
   "cell_type": "markdown",
   "metadata": {},
   "source": [
    "## Initial thoughts"
   ]
  },
  {
   "cell_type": "markdown",
   "metadata": {},
   "source": [
    "This dataset seems to contain a decent amount of information, yet none of this information is clearly shown to the user. It is unfortunate that we will have almost no real-world knowledge of what columns like City_Category or Occupation mean, as that would be extremely useful in future classification or clustering problems. "
   ]
  },
  {
   "cell_type": "markdown",
   "metadata": {},
   "source": [
    "Since we are doing a regression approach on the purchase amount, we will need to clean all of this data and prepare it for analysis. Even without the real-world mappings, we should still be able to make a decent regression model for the purchase total."
   ]
  },
  {
   "cell_type": "markdown",
   "metadata": {},
   "source": [
    "# Data preprocessing"
   ]
  },
  {
   "cell_type": "markdown",
   "metadata": {},
   "source": [
    "The purpose of the data preprocessing stage is to minimize potential error in the model as much as possible. Generally, a model is only as good as the data passed into it, and the data preprocessing we do ensures that the model has as accurate a dataset as possible. While we cannot perfectly clean the dataset, we can at least follow some basics steps to ensure that our dataset has the best possible chance of generating a good model. "
   ]
  },
  {
   "cell_type": "markdown",
   "metadata": {},
   "source": [
    "First, let's check and see null values for this dataset. Null values are empty, useless entries within our dataset that we don't need. If we skip removing null values, our model will be inaccurate as we create \"connections\" for useless values, rather than focusing all resources onto creating connections for useful values. "
   ]
  },
  {
   "cell_type": "code",
   "execution_count": 1,
   "metadata": {},
   "outputs": [
    {
     "name": "stdout",
     "output_type": "stream",
     "text": [
      "   User_ID Product_ID Gender   Age  Occupation City_Category  \\\n",
      "0  1000001  P00069042      F  0-17          10             A   \n",
      "1  1000001  P00248942      F  0-17          10             A   \n",
      "2  1000001  P00087842      F  0-17          10             A   \n",
      "3  1000001  P00085442      F  0-17          10             A   \n",
      "4  1000002  P00285442      M   55+          16             C   \n",
      "\n",
      "  Stay_In_Current_City_Years  Marital_Status  Product_Category_1  \\\n",
      "0                          2               0                   3   \n",
      "1                          2               0                   1   \n",
      "2                          2               0                  12   \n",
      "3                          2               0                  12   \n",
      "4                         4+               0                   8   \n",
      "\n",
      "   Product_Category_2  Product_Category_3  Purchase  \n",
      "0                 NaN                 NaN      8370  \n",
      "1                 6.0                14.0     15200  \n",
      "2                 NaN                 NaN      1422  \n",
      "3                14.0                 NaN      1057  \n",
      "4                 NaN                 NaN      7969  \n"
     ]
    }
   ],
   "source": [
    "import pandas as pd\n",
    "import numpy as np\n",
    "\n",
    "df = pd.read_csv('BlackFriday.csv')\n",
    "print(df.head())"
   ]
  },
  {
   "cell_type": "code",
   "execution_count": 2,
   "metadata": {},
   "outputs": [
    {
     "name": "stdout",
     "output_type": "stream",
     "text": [
      "Presence of null values: True\n"
     ]
    }
   ],
   "source": [
    "print(\"Presence of null values: \" + str(df.isnull().values.any()))"
   ]
  },
  {
   "cell_type": "markdown",
   "metadata": {},
   "source": [
    "Looks like we will have to analyze where exactly our null values are occuring. Let's check the distributions of the null values in our dataset. "
   ]
  },
  {
   "cell_type": "code",
   "execution_count": 3,
   "metadata": {
    "scrolled": true
   },
   "outputs": [
    {
     "name": "stdout",
     "output_type": "stream",
     "text": [
      "             User_ID Product_ID  Gender     Age Occupation City_Category  \\\n",
      "count         537577     537577  537577  537577     537577        537577   \n",
      "unique           NaN       3623       2       7        NaN             3   \n",
      "top              NaN  P00265242       M   26-35        NaN             B   \n",
      "freq             NaN       1858  405380  214690        NaN        226493   \n",
      "mean     1.00299e+06        NaN     NaN     NaN    8.08271           NaN   \n",
      "std          1714.39        NaN     NaN     NaN    6.52412           NaN   \n",
      "min            1e+06        NaN     NaN     NaN          0           NaN   \n",
      "25%       1.0015e+06        NaN     NaN     NaN          2           NaN   \n",
      "50%      1.00303e+06        NaN     NaN     NaN          7           NaN   \n",
      "75%      1.00442e+06        NaN     NaN     NaN         14           NaN   \n",
      "max      1.00604e+06        NaN     NaN     NaN         20           NaN   \n",
      "dtype          int64     object  object  object      int64        object   \n",
      "size          537577     537577  537577  537577     537577        537577   \n",
      "% count            0          0       0       0          0             0   \n",
      "\n",
      "        Stay_In_Current_City_Years Marital_Status Product_Category_1  \\\n",
      "count                       537577         537577             537577   \n",
      "unique                           5            NaN                NaN   \n",
      "top                              1            NaN                NaN   \n",
      "freq                        189192            NaN                NaN   \n",
      "mean                           NaN       0.408797            5.29555   \n",
      "std                            NaN       0.491612             3.7507   \n",
      "min                            NaN              0                  1   \n",
      "25%                            NaN              0                  1   \n",
      "50%                            NaN              0                  5   \n",
      "75%                            NaN              1                  8   \n",
      "max                            NaN              1                 18   \n",
      "dtype                       object          int64              int64   \n",
      "size                        537577         537577             537577   \n",
      "% count                          0              0                  0   \n",
      "\n",
      "        Product_Category_2 Product_Category_3 Purchase  \n",
      "count               370591             164278   537577  \n",
      "unique                 NaN                NaN      NaN  \n",
      "top                    NaN                NaN      NaN  \n",
      "freq                   NaN                NaN      NaN  \n",
      "mean               9.84214            12.6698  9333.86  \n",
      "std                5.08726            4.12434  4981.02  \n",
      "min                      2                  3      185  \n",
      "25%                      5                  9     5866  \n",
      "50%                      9                 14     8062  \n",
      "75%                     15                 16    12073  \n",
      "max                     18                 18    23961  \n",
      "dtype              float64            float64    int64  \n",
      "size                537577             537577   537577  \n",
      "% count           0.310627            0.69441        0  \n"
     ]
    }
   ],
   "source": [
    "df1 = df.describe(include = 'all')\n",
    "\n",
    "df1.loc['dtype'] = df.dtypes\n",
    "df1.loc['size'] = len(df)\n",
    "df1.loc['% count'] = df.isnull().mean()\n",
    "print(df1)"
   ]
  },
  {
   "cell_type": "code",
   "execution_count": 4,
   "metadata": {},
   "outputs": [
    {
     "name": "stdout",
     "output_type": "stream",
     "text": [
      "        User_ID  Product_ID  Gender    Age  Occupation  City_Category  \\\n",
      "0         False       False   False  False       False          False   \n",
      "1         False       False   False  False       False          False   \n",
      "2         False       False   False  False       False          False   \n",
      "3         False       False   False  False       False          False   \n",
      "4         False       False   False  False       False          False   \n",
      "5         False       False   False  False       False          False   \n",
      "6         False       False   False  False       False          False   \n",
      "7         False       False   False  False       False          False   \n",
      "8         False       False   False  False       False          False   \n",
      "9         False       False   False  False       False          False   \n",
      "10        False       False   False  False       False          False   \n",
      "11        False       False   False  False       False          False   \n",
      "12        False       False   False  False       False          False   \n",
      "13        False       False   False  False       False          False   \n",
      "14        False       False   False  False       False          False   \n",
      "15        False       False   False  False       False          False   \n",
      "16        False       False   False  False       False          False   \n",
      "17        False       False   False  False       False          False   \n",
      "18        False       False   False  False       False          False   \n",
      "19        False       False   False  False       False          False   \n",
      "20        False       False   False  False       False          False   \n",
      "21        False       False   False  False       False          False   \n",
      "22        False       False   False  False       False          False   \n",
      "23        False       False   False  False       False          False   \n",
      "24        False       False   False  False       False          False   \n",
      "25        False       False   False  False       False          False   \n",
      "26        False       False   False  False       False          False   \n",
      "27        False       False   False  False       False          False   \n",
      "28        False       False   False  False       False          False   \n",
      "29        False       False   False  False       False          False   \n",
      "...         ...         ...     ...    ...         ...            ...   \n",
      "537547    False       False   False  False       False          False   \n",
      "537548    False       False   False  False       False          False   \n",
      "537549    False       False   False  False       False          False   \n",
      "537550    False       False   False  False       False          False   \n",
      "537551    False       False   False  False       False          False   \n",
      "537552    False       False   False  False       False          False   \n",
      "537553    False       False   False  False       False          False   \n",
      "537554    False       False   False  False       False          False   \n",
      "537555    False       False   False  False       False          False   \n",
      "537556    False       False   False  False       False          False   \n",
      "537557    False       False   False  False       False          False   \n",
      "537558    False       False   False  False       False          False   \n",
      "537559    False       False   False  False       False          False   \n",
      "537560    False       False   False  False       False          False   \n",
      "537561    False       False   False  False       False          False   \n",
      "537562    False       False   False  False       False          False   \n",
      "537563    False       False   False  False       False          False   \n",
      "537564    False       False   False  False       False          False   \n",
      "537565    False       False   False  False       False          False   \n",
      "537566    False       False   False  False       False          False   \n",
      "537567    False       False   False  False       False          False   \n",
      "537568    False       False   False  False       False          False   \n",
      "537569    False       False   False  False       False          False   \n",
      "537570    False       False   False  False       False          False   \n",
      "537571    False       False   False  False       False          False   \n",
      "537572    False       False   False  False       False          False   \n",
      "537573    False       False   False  False       False          False   \n",
      "537574    False       False   False  False       False          False   \n",
      "537575    False       False   False  False       False          False   \n",
      "537576    False       False   False  False       False          False   \n",
      "\n",
      "        Stay_In_Current_City_Years  Marital_Status  Product_Category_1  \\\n",
      "0                            False           False               False   \n",
      "1                            False           False               False   \n",
      "2                            False           False               False   \n",
      "3                            False           False               False   \n",
      "4                            False           False               False   \n",
      "5                            False           False               False   \n",
      "6                            False           False               False   \n",
      "7                            False           False               False   \n",
      "8                            False           False               False   \n",
      "9                            False           False               False   \n",
      "10                           False           False               False   \n",
      "11                           False           False               False   \n",
      "12                           False           False               False   \n",
      "13                           False           False               False   \n",
      "14                           False           False               False   \n",
      "15                           False           False               False   \n",
      "16                           False           False               False   \n",
      "17                           False           False               False   \n",
      "18                           False           False               False   \n",
      "19                           False           False               False   \n",
      "20                           False           False               False   \n",
      "21                           False           False               False   \n",
      "22                           False           False               False   \n",
      "23                           False           False               False   \n",
      "24                           False           False               False   \n",
      "25                           False           False               False   \n",
      "26                           False           False               False   \n",
      "27                           False           False               False   \n",
      "28                           False           False               False   \n",
      "29                           False           False               False   \n",
      "...                            ...             ...                 ...   \n",
      "537547                       False           False               False   \n",
      "537548                       False           False               False   \n",
      "537549                       False           False               False   \n",
      "537550                       False           False               False   \n",
      "537551                       False           False               False   \n",
      "537552                       False           False               False   \n",
      "537553                       False           False               False   \n",
      "537554                       False           False               False   \n",
      "537555                       False           False               False   \n",
      "537556                       False           False               False   \n",
      "537557                       False           False               False   \n",
      "537558                       False           False               False   \n",
      "537559                       False           False               False   \n",
      "537560                       False           False               False   \n",
      "537561                       False           False               False   \n",
      "537562                       False           False               False   \n",
      "537563                       False           False               False   \n",
      "537564                       False           False               False   \n",
      "537565                       False           False               False   \n",
      "537566                       False           False               False   \n",
      "537567                       False           False               False   \n",
      "537568                       False           False               False   \n",
      "537569                       False           False               False   \n",
      "537570                       False           False               False   \n",
      "537571                       False           False               False   \n",
      "537572                       False           False               False   \n",
      "537573                       False           False               False   \n",
      "537574                       False           False               False   \n",
      "537575                       False           False               False   \n",
      "537576                       False           False               False   \n",
      "\n",
      "        Product_Category_2  Product_Category_3  Purchase  \n",
      "0                     True                True     False  \n",
      "1                    False               False     False  \n",
      "2                     True                True     False  \n",
      "3                    False                True     False  \n",
      "4                     True                True     False  \n",
      "5                    False                True     False  \n",
      "6                    False               False     False  \n",
      "7                    False                True     False  \n",
      "8                    False                True     False  \n",
      "9                     True                True     False  \n",
      "10                   False                True     False  \n",
      "11                    True                True     False  \n",
      "12                    True                True     False  \n",
      "13                   False               False     False  \n",
      "14                   False               False     False  \n",
      "15                   False                True     False  \n",
      "16                   False               False     False  \n",
      "17                   False                True     False  \n",
      "18                   False               False     False  \n",
      "19                   False               False     False  \n",
      "20                   False                True     False  \n",
      "21                    True                True     False  \n",
      "22                    True                True     False  \n",
      "23                    True                True     False  \n",
      "24                   False               False     False  \n",
      "25                   False                True     False  \n",
      "26                    True                True     False  \n",
      "27                   False                True     False  \n",
      "28                   False               False     False  \n",
      "29                   False               False     False  \n",
      "...                    ...                 ...       ...  \n",
      "537547               False               False     False  \n",
      "537548                True                True     False  \n",
      "537549               False               False     False  \n",
      "537550                True                True     False  \n",
      "537551               False               False     False  \n",
      "537552               False                True     False  \n",
      "537553               False                True     False  \n",
      "537554               False                True     False  \n",
      "537555               False                True     False  \n",
      "537556               False                True     False  \n",
      "537557                True                True     False  \n",
      "537558               False                True     False  \n",
      "537559               False                True     False  \n",
      "537560               False                True     False  \n",
      "537561               False                True     False  \n",
      "537562               False               False     False  \n",
      "537563                True                True     False  \n",
      "537564               False                True     False  \n",
      "537565                True                True     False  \n",
      "537566                True                True     False  \n",
      "537567               False                True     False  \n",
      "537568                True                True     False  \n",
      "537569               False                True     False  \n",
      "537570               False                True     False  \n",
      "537571               False               False     False  \n",
      "537572               False                True     False  \n",
      "537573               False               False     False  \n",
      "537574               False                True     False  \n",
      "537575                True                True     False  \n",
      "537576               False                True     False  \n",
      "\n",
      "[537577 rows x 12 columns]\n"
     ]
    }
   ],
   "source": [
    "print(df.isna())"
   ]
  },
  {
   "cell_type": "markdown",
   "metadata": {},
   "source": [
    "There are some revelations here. It seems as if our dataset columns are not all numbers, even though they look like they are. There are also a lot of NaN values, but thankfully they're mostly focused in Product_Category_2/3, so we will not have to do much tweaking. "
   ]
  },
  {
   "cell_type": "markdown",
   "metadata": {},
   "source": [
    "Our next steps involve using scikit-learn's LabelEncoder package to map categorical data to numerical values. Categorical data is non-numeric data, meaning that it doesn't relate to a number. We should also temporarily insert 0s into the NaN values in the Product_Category null values. This will be a temporary measure until we can figure out the importance of Product_Category 2/3 in the EDA section."
   ]
  },
  {
   "cell_type": "code",
   "execution_count": 12,
   "metadata": {},
   "outputs": [
    {
     "name": "stdout",
     "output_type": "stream",
     "text": [
      "['User_ID' 'Product_ID' 'Gender' 'City_Category'\n",
      " 'Stay_In_Current_City_Years' 'Marital_Status' 'Product_Category_1'\n",
      " 'Product_Category_2' 'Product_Category_3']\n"
     ]
    }
   ],
   "source": [
    "from sklearn.preprocessing import LabelEncoder\n",
    "\n",
    "df['Product_Category_2'] = df['Product_Category_2'].fillna(value=0)\n",
    "df['Product_Category_3'] = df['Product_Category_3'].fillna(value=0)\n",
    "\n",
    "col_names = df.columns.values\n",
    "col_names = np.delete(col_names, 11)\n",
    "col_names = np.delete(col_names, 3)\n",
    "col_names = np.delete(col_names, 3)\n",
    "\n",
    "lbl = LabelEncoder()\n",
    "\n",
    "for col in col_names:\n",
    "    df[col] = lbl.fit_transform(df[col].values)"
   ]
  },
  {
   "cell_type": "markdown",
   "metadata": {},
   "source": [
    "Here, we can now see that we've labelled our categorical data, and changed the object-type columns to be of type int32/64. Now, we can also choose what columns we want to use for our regression predictions. For my use case, User_ID and Product_ID were mostly useless, so I decided to drop them. I also dropped Product_Category 2/3 since a lot of the values turned out to be ex-null values. This is okay to do since having so many null values in our model would reduce the accuracy of our predictions and analysis. "
   ]
  },
  {
   "cell_type": "code",
   "execution_count": 14,
   "metadata": {
    "scrolled": true
   },
   "outputs": [
    {
     "data": {
      "text/plain": [
       "0          0\n",
       "1         11\n",
       "2          0\n",
       "3          0\n",
       "4          0\n",
       "5          0\n",
       "6         14\n",
       "7          0\n",
       "8          0\n",
       "9          0\n",
       "10         0\n",
       "11         0\n",
       "12         0\n",
       "13         3\n",
       "14        11\n",
       "15         0\n",
       "16         2\n",
       "17         0\n",
       "18        13\n",
       "19        12\n",
       "20         0\n",
       "21         0\n",
       "22         0\n",
       "23         0\n",
       "24        11\n",
       "25         0\n",
       "26         0\n",
       "27         0\n",
       "28        11\n",
       "29         5\n",
       "          ..\n",
       "537547    12\n",
       "537548     0\n",
       "537549    11\n",
       "537550     0\n",
       "537551     5\n",
       "537552     0\n",
       "537553     0\n",
       "537554     0\n",
       "537555     0\n",
       "537556     0\n",
       "537557     0\n",
       "537558     0\n",
       "537559     0\n",
       "537560     0\n",
       "537561     0\n",
       "537562    11\n",
       "537563     0\n",
       "537564     0\n",
       "537565     0\n",
       "537566     0\n",
       "537567     0\n",
       "537568     0\n",
       "537569     0\n",
       "537570     0\n",
       "537571     3\n",
       "537572     0\n",
       "537573    13\n",
       "537574     0\n",
       "537575     0\n",
       "537576     0\n",
       "Name: Product_Category_3, Length: 537577, dtype: int64"
      ]
     },
     "execution_count": 14,
     "metadata": {},
     "output_type": "execute_result"
    }
   ],
   "source": [
    "df.pop('User_ID')\n",
    "df.pop('Product_ID')\n",
    "df.pop('Product_Category_2')\n",
    "df.pop('Product_Category_3')"
   ]
  },
  {
   "cell_type": "markdown",
   "metadata": {},
   "source": [
    "We can now move onto data analysis and correlations. "
   ]
  },
  {
   "cell_type": "markdown",
   "metadata": {},
   "source": [
    "# EDA"
   ]
  },
  {
   "cell_type": "markdown",
   "metadata": {},
   "source": [
    "The purpose of EDA is to enhance our understanding of trends in the dataset without involving complicated machine learning models. Oftentimes, we can see obvious traits using graphs and charts just from plotting columns of the dataset against each other."
   ]
  },
  {
   "cell_type": "markdown",
   "metadata": {},
   "source": [
    "After the preprocessing, we can use seaborn's correlation heatmap to get a better gauge on what we want to emphasize/de-emphasize. "
   ]
  },
  {
   "cell_type": "markdown",
   "metadata": {},
   "source": [
    "Let's create a correlation map to see the relations between different features.  \n",
    "\n",
    "A correlation map (or correlation matrix) is a visual tool that illustrates the relationship between different columns of the dataset. The matrix will be lighter when the columns represented move in the same direction together, and it will be darker when one column decreases while the other increases. Strong spots of light and dark spots in our correlation matrix tell us about the future reliabilty of the model. "
   ]
  },
  {
   "cell_type": "code",
   "execution_count": 16,
   "metadata": {},
   "outputs": [
    {
     "data": {
      "text/plain": [
       "<matplotlib.axes._subplots.AxesSubplot at 0x14359779438>"
      ]
     },
     "execution_count": 16,
     "metadata": {},
     "output_type": "execute_result"
    },
    {
     "data": {
      "image/png": "[encoded data removed]",
      "text/plain": [
       "<Figure size 432x288 with 2 Axes>"
      ]
     },
     "metadata": {
      "needs_background": "light"
     },
     "output_type": "display_data"
    }
   ],
   "source": [
    "import seaborn as sns\n",
    "\n",
    "corr = df.corr()\n",
    "sns.heatmap(corr)"
   ]
  },
  {
   "cell_type": "markdown",
   "metadata": {},
   "source": [
    "From the correlation map, we can see a large negative correlation between Purchase and Product_Category_1. There is also a strong correlation between Age and Marital Status, which makes sense as well. However, we don't have many strong correlation points between our columns aside from the ones mentioned above. This is a problem because our model needs decent correlations between the data columns in order to make accurate predictions."
   ]
  },
  {
   "cell_type": "code",
   "execution_count": 17,
   "metadata": {},
   "outputs": [
    {
     "data": {
      "text/plain": [
       "<matplotlib.axes._subplots.AxesSubplot at 0x143598334a8>"
      ]
     },
     "execution_count": 17,
     "metadata": {},
     "output_type": "execute_result"
    },
    {
     "data": {
      "image/png": "[encoded data removed]",
      "text/plain": [
       "<Figure size 432x288 with 1 Axes>"
      ]
     },
     "metadata": {
      "needs_background": "light"
     },
     "output_type": "display_data"
    }
   ],
   "source": [
    "pd.value_counts(df['Age']).plot.bar()"
   ]
  },
  {
   "cell_type": "markdown",
   "metadata": {},
   "source": [
    "We can see that there is a large proportion of the customers in the  26-35 range, followed by the next largest at 36-45 range. Marketing products towards college grads and people between 26-45 range seem to generate the most sales on Black Friday. Let's plot the occupations as well to see what's most represented within the dataset. "
   ]
  },
  {
   "cell_type": "code",
   "execution_count": 18,
   "metadata": {},
   "outputs": [
    {
     "data": {
      "text/plain": [
       "<matplotlib.axes._subplots.AxesSubplot at 0x14359833710>"
      ]
     },
     "execution_count": 18,
     "metadata": {},
     "output_type": "execute_result"
    },
    {
     "data": {
      "image/png": "[encoded data removed]",
      "text/plain": [
       "<Figure size 432x288 with 1 Axes>"
      ]
     },
     "metadata": {
      "needs_background": "light"
     },
     "output_type": "display_data"
    }
   ],
   "source": [
    "pd.value_counts(df['Occupation']).plot.bar()"
   ]
  },
  {
   "cell_type": "markdown",
   "metadata": {},
   "source": [
    "Occupations 4, 0, 7 are much more heavily represented within this dataset compared to the others. Unfortunately, we don't have a proper mapping between the categorical and numerical data, so we can't infer much beyond simply observing the data. As a retailer, focusing on objects purchased by Occupations 4, 0, and 7 seem to be the way to go to maximize total number of sales. "
   ]
  },
  {
   "cell_type": "code",
   "execution_count": 19,
   "metadata": {
    "scrolled": true
   },
   "outputs": [
    {
     "data": {
      "text/plain": [
       "<matplotlib.axes._subplots.AxesSubplot at 0x143597f2978>"
      ]
     },
     "execution_count": 19,
     "metadata": {},
     "output_type": "execute_result"
    },
    {
     "data": {
      "image/png": "[encoded data removed]",
      "text/plain": [
       "<Figure size 432x288 with 1 Axes>"
      ]
     },
     "metadata": {
      "needs_background": "light"
     },
     "output_type": "display_data"
    }
   ],
   "source": [
    "pd.value_counts(df['City_Category']).plot.bar()"
   ]
  },
  {
   "cell_type": "markdown",
   "metadata": {},
   "source": [
    "Again, we don't have enough categorical information to make sense of the data, but it seems that City_Category 1 has the most retail sales compared to the other two city types. This could potentially lead to insights in spending habits between different cities (e.g spending is higher in NYC retail stores compared to retail stores in Tuscaloosa). "
   ]
  },
  {
   "cell_type": "code",
   "execution_count": 20,
   "metadata": {},
   "outputs": [
    {
     "data": {
      "text/plain": [
       "<matplotlib.axes._subplots.AxesSubplot at 0x143599ecc50>"
      ]
     },
     "execution_count": 20,
     "metadata": {},
     "output_type": "execute_result"
    },
    {
     "data": {
      "image/png": "[encoded data removed]",
      "text/plain": [
       "<Figure size 432x288 with 1 Axes>"
      ]
     },
     "metadata": {
      "needs_background": "light"
     },
     "output_type": "display_data"
    }
   ],
   "source": [
    "pd.value_counts(df['Gender']).plot.bar()"
   ]
  },
  {
   "cell_type": "markdown",
   "metadata": {},
   "source": [
    "This factor is much more interesting. With 1 being Male and 0 being Female, we can see that there are significantly more males than females on Black Friday shopping. As for the reasoning behind this distribution, there may be more sales on male-oriented items compared to female oriented items. Either way, as a retailer, it seems to be better to stock more male-oriented products on Black Friday to generate the most sales.  \n",
    "\n",
    "It also makes sense to market to women as well, since not many retailers are pursuing the group. By capitalizing on the women's market, your company can gain a concrete advantage while other companies lose more money competing for male customers. "
   ]
  },
  {
   "cell_type": "code",
   "execution_count": 36,
   "metadata": {},
   "outputs": [
    {
     "data": {
      "text/plain": [
       "<matplotlib.axes._subplots.AxesSubplot at 0x1436516a550>"
      ]
     },
     "execution_count": 36,
     "metadata": {},
     "output_type": "execute_result"
    },
    {
     "data": {
      "image/png": "[encoded data removed]",
      "text/plain": [
       "<Figure size 432x288 with 1 Axes>"
      ]
     },
     "metadata": {
      "needs_background": "light"
     },
     "output_type": "display_data"
    }
   ],
   "source": [
    "sns.boxplot(x = 'Product_Category_1', y = 'Purchase', data = df)"
   ]
  },
  {
   "cell_type": "markdown",
   "metadata": {},
   "source": [
    "It seems as if Product_Category_1 has it's most purchased items on average in category 9, followed by categories 5, 6, 14, and 15. For retailers, this could mean that it is better to stock more of those items to get the most sales. "
   ]
  },
  {
   "cell_type": "markdown",
   "metadata": {},
   "source": [
    "Now that we have done our analysis for this dataset, we can begin building and training our models."
   ]
  },
  {
   "cell_type": "markdown",
   "metadata": {},
   "source": [
    "# Model Training"
   ]
  },
  {
   "cell_type": "markdown",
   "metadata": {},
   "source": [
    "In this section, we will be creating and training our model for predicting how much a customer will spend at a retail store. Since there are multiple algorithms we can use to build our model, we will compare the accuracy scores after testing and pick the most accurate algorithm."
   ]
  },
  {
   "cell_type": "markdown",
   "metadata": {},
   "source": [
    "Let's begin by importing the different regression algorithms we will be using for prediction."
   ]
  },
  {
   "cell_type": "code",
   "execution_count": 21,
   "metadata": {},
   "outputs": [],
   "source": [
    "import xgboost as xgb\n",
    "from xgboost import XGBRegressor\n",
    "from sklearn.tree import DecisionTreeRegressor\n",
    "from sklearn.datasets import make_regression\n",
    "from sklearn.ensemble import RandomForestRegressor\n",
    "from sklearn.neighbors import KNeighborsRegressor"
   ]
  },
  {
   "cell_type": "markdown",
   "metadata": {},
   "source": [
    "Now, we can begin building and training our model."
   ]
  },
  {
   "cell_type": "markdown",
   "metadata": {},
   "source": [
    "From this list, we are using XGBoost, DecisionTree, RandomForest, LogisticRegression, SVC, and KNeighborsRegressor to perform our predictions. We will then see which algorithm produces the lowest root mean squared error (RMSE) and select it as our algorithm of choice for future use. We also want to partition our dataset into training, testing, and validation, so let's add a method for that ability. "
   ]
  },
  {
   "cell_type": "markdown",
   "metadata": {},
   "source": [
    "Our testing will take three phases: testing, training, and validation. Training is first, and it's where our model generates \"intuition\" about how to approach fraudulent and not fraudulent transactions. It is similar to a student studying and developing knowledge about a topic before an exam.  \n",
    "\n",
    "The testing phase is where we see how the model performs against data where we know the outcome. This would be the exam if we continue the analogy from before. The algorithms will perform differently, similar to how students will score differently on the exam. From this phase, we generate an accuracy score to compare the different algorithms.  \n",
    "\n",
    "The validation testing is how we check that the model isn't overfitting to our specific dataset. Overfitting is when the model starts to develop an intuition that is too specific to the training set. Overfitting is a problem because our model is no longer flexible. It may work on the initial set, but subsequent uses will cause our model to fail. Continuing the exam analogy, the validation testing phase is like another version of the exam with different questions. If a student happened to cheat on the first exam by knowing the questions, the second exam will give a better representation of performance.  \n",
    "\n",
    "Note that verification doesn't completely disprove or prove overfitting, but the testing does give insight about it. "
   ]
  },
  {
   "cell_type": "code",
   "execution_count": 25,
   "metadata": {},
   "outputs": [],
   "source": [
    "from sklearn.model_selection import train_test_split\n",
    "\n",
    "training,test = train_test_split(df, train_size = 0.7, test_size = 0.3, shuffle=True)\n",
    "training, valid = train_test_split(training, train_size = 0.7, test_size =0.3, shuffle=True)\n",
    "\n",
    "training_label = training.pop('Purchase')\n",
    "test_label = test.pop('Purchase')\n",
    "valid_label = valid.pop('Purchase')"
   ]
  },
  {
   "cell_type": "markdown",
   "metadata": {},
   "source": [
    "Now, we can begin building and training our model."
   ]
  },
  {
   "cell_type": "markdown",
   "metadata": {},
   "source": [
    "We now instantiate our different algorithms to begin training the model. "
   ]
  },
  {
   "cell_type": "code",
   "execution_count": 26,
   "metadata": {},
   "outputs": [],
   "source": [
    "# instantiate training models \n",
    "xgb = XGBRegressor()\n",
    "dtc = DecisionTreeRegressor()\n",
    "rfc = RandomForestRegressor()\n",
    "knn = KNeighborsRegressor(n_neighbors=3)"
   ]
  },
  {
   "cell_type": "code",
   "execution_count": 27,
   "metadata": {},
   "outputs": [
    {
     "name": "stderr",
     "output_type": "stream",
     "text": [
      "c:\\users\\tgmat\\appdata\\local\\programs\\python\\python37\\lib\\site-packages\\xgboost\\core.py:587: FutureWarning: Series.base is deprecated and will be removed in a future version\n",
      "  if getattr(data, 'base', None) is not None and \\\n",
      "c:\\users\\tgmat\\appdata\\local\\programs\\python\\python37\\lib\\site-packages\\xgboost\\core.py:588: FutureWarning: Series.base is deprecated and will be removed in a future version\n",
      "  data.base is not None and isinstance(data, np.ndarray) \\\n"
     ]
    },
    {
     "name": "stdout",
     "output_type": "stream",
     "text": [
      "[14:09:37] WARNING: C:/Jenkins/workspace/xgboost-win64_release_0.90/src/objective/regression_obj.cu:152: reg:linear is now deprecated in favor of reg:squarederror.\n"
     ]
    },
    {
     "name": "stderr",
     "output_type": "stream",
     "text": [
      "c:\\users\\tgmat\\appdata\\local\\programs\\python\\python37\\lib\\site-packages\\sklearn\\ensemble\\forest.py:245: FutureWarning: The default value of n_estimators will change from 10 in version 0.20 to 100 in 0.22.\n",
      "  \"10 in version 0.20 to 100 in 0.22.\", FutureWarning)\n"
     ]
    },
    {
     "data": {
      "text/plain": [
       "KNeighborsRegressor(algorithm='auto', leaf_size=30, metric='minkowski',\n",
       "                    metric_params=None, n_jobs=None, n_neighbors=3, p=2,\n",
       "                    weights='uniform')"
      ]
     },
     "execution_count": 27,
     "metadata": {},
     "output_type": "execute_result"
    }
   ],
   "source": [
    "# train the models\n",
    "xgb.fit(training, training_label)\n",
    "dtc.fit(training, training_label)\n",
    "rfc.fit(training, training_label)\n",
    "knn.fit(training, training_label)"
   ]
  },
  {
   "cell_type": "markdown",
   "metadata": {},
   "source": [
    "This dataset is very large (500k+ rows), so it will take some time to train our models, especially for the slower algorithms. "
   ]
  },
  {
   "cell_type": "markdown",
   "metadata": {},
   "source": [
    "The training label for this use case is the purchase amount from each person. Since we are trying to predict a number, we are solving a regression problem, hence why we used the regression algorithms."
   ]
  },
  {
   "cell_type": "markdown",
   "metadata": {},
   "source": [
    "Our model has been trained, now let's move on to testing."
   ]
  },
  {
   "cell_type": "markdown",
   "metadata": {},
   "source": [
    "# Testing the Model"
   ]
  },
  {
   "cell_type": "markdown",
   "metadata": {},
   "source": [
    "Below is the code for testing our model:"
   ]
  },
  {
   "cell_type": "code",
   "execution_count": 28,
   "metadata": {},
   "outputs": [],
   "source": [
    "xgb_predict = xgb.predict(test)\n",
    "dtc_predict = dtc.predict(test)\n",
    "rfc_predict = rfc.predict(test)\n",
    "knn_predict = knn.predict(test)"
   ]
  },
  {
   "cell_type": "markdown",
   "metadata": {},
   "source": [
    "Since we are doing regression, we use sklearn's built-in mean_squared_error() method and then use math.sqrt() to get the RMSE value. "
   ]
  },
  {
   "cell_type": "code",
   "execution_count": 29,
   "metadata": {},
   "outputs": [
    {
     "name": "stdout",
     "output_type": "stream",
     "text": [
      "{'XGBoost': 2463.9493716957895, 'DecisionTree': 2470.5844387341845, 'RandomForest': 2439.5589418390937, 'KNN': 2762.9770146527535}\n"
     ]
    }
   ],
   "source": [
    "from sklearn.metrics import mean_squared_error\n",
    "import math\n",
    "\n",
    "accuracy = dict()\n",
    "accuracy['XGBoost'] = math.sqrt(mean_squared_error(test_label, xgb_predict))\n",
    "accuracy['DecisionTree'] = math.sqrt(mean_squared_error(test_label, dtc_predict))\n",
    "accuracy['RandomForest'] = math.sqrt(mean_squared_error(test_label,rfc_predict))\n",
    "accuracy['KNN'] = math.sqrt(mean_squared_error(test_label,knn_predict))\n",
    "\n",
    "print(accuracy)"
   ]
  },
  {
   "cell_type": "markdown",
   "metadata": {},
   "source": [
    "These RMSE values are very large, especially given the data we are working with. We will have to fine tune our model to get better numbers. However, remember that in our correlation graph, there were very few correlated variables, so it is expected that our model produces very skewed values. "
   ]
  },
  {
   "cell_type": "code",
   "execution_count": 30,
   "metadata": {},
   "outputs": [
    {
     "name": "stdout",
     "output_type": "stream",
     "text": [
      "{'XGBoost': 2467.7929512047444, 'DecisionTree': 2475.4688039178195, 'RandomForest': 2447.2282815365447, 'KNN': 2781.80780730333}\n"
     ]
    }
   ],
   "source": [
    "xgb_predict = xgb.predict(valid)\n",
    "dtc_predict = dtc.predict(valid)\n",
    "rfc_predict = rfc.predict(valid)\n",
    "knn_predict = knn.predict(valid)\n",
    "\n",
    "# judge accuracy using built-in function\n",
    "accuracy['XGBoost'] = math.sqrt(mean_squared_error(valid_label, xgb_predict))\n",
    "accuracy['DecisionTree'] = math.sqrt(mean_squared_error(valid_label, dtc_predict))\n",
    "accuracy['RandomForest'] = math.sqrt(mean_squared_error(valid_label,rfc_predict))\n",
    "accuracy['KNN'] = math.sqrt(mean_squared_error(valid_label,knn_predict))\n",
    "\n",
    "print(accuracy)"
   ]
  },
  {
   "cell_type": "markdown",
   "metadata": {},
   "source": [
    "Again, as stated above, this is expected due to the lack of correlation between our columns. We are limited mostly by the quality of our dataset, since there are so many null values and outliers that affect our error accuracy. "
   ]
  },
  {
   "cell_type": "code",
   "execution_count": 31,
   "metadata": {},
   "outputs": [
    {
     "data": {
      "text/html": [
       "<div>\n",
       "<style scoped>\n",
       "    .dataframe tbody tr th:only-of-type {\n",
       "        vertical-align: middle;\n",
       "    }\n",
       "\n",
       "    .dataframe tbody tr th {\n",
       "        vertical-align: top;\n",
       "    }\n",
       "\n",
       "    .dataframe thead th {\n",
       "        text-align: right;\n",
       "    }\n",
       "</style>\n",
       "<table border=\"1\" class=\"dataframe\">\n",
       "  <thead>\n",
       "    <tr style=\"text-align: right;\">\n",
       "      <th></th>\n",
       "      <th>label mpg</th>\n",
       "      <th>prediction</th>\n",
       "    </tr>\n",
       "  </thead>\n",
       "  <tbody>\n",
       "    <tr>\n",
       "      <th>210696</th>\n",
       "      <td>9921</td>\n",
       "      <td>11619.172852</td>\n",
       "    </tr>\n",
       "    <tr>\n",
       "      <th>247527</th>\n",
       "      <td>232</td>\n",
       "      <td>1796.697266</td>\n",
       "    </tr>\n",
       "    <tr>\n",
       "      <th>107699</th>\n",
       "      <td>14030</td>\n",
       "      <td>11401.705078</td>\n",
       "    </tr>\n",
       "    <tr>\n",
       "      <th>431514</th>\n",
       "      <td>4699</td>\n",
       "      <td>5702.896973</td>\n",
       "    </tr>\n",
       "    <tr>\n",
       "      <th>207541</th>\n",
       "      <td>5253</td>\n",
       "      <td>4695.608887</td>\n",
       "    </tr>\n",
       "  </tbody>\n",
       "</table>\n",
       "</div>"
      ],
      "text/plain": [
       "        label mpg    prediction\n",
       "210696       9921  11619.172852\n",
       "247527        232   1796.697266\n",
       "107699      14030  11401.705078\n",
       "431514       4699   5702.896973\n",
       "207541       5253   4695.608887"
      ]
     },
     "execution_count": 31,
     "metadata": {},
     "output_type": "execute_result"
    }
   ],
   "source": [
    "results = pd.DataFrame({'label mpg': valid_label, \n",
    "                        'prediction': xgb.predict(valid)})\n",
    "results.head()"
   ]
  },
  {
   "cell_type": "markdown",
   "metadata": {},
   "source": [
    "That's not very good at predicting. It appears that the 232 is an outlier in our dataset, meaning that we should mostly likely do some normalization and remove outliers in the EDA section. However, even with the outliers removed, we would probably still have an inaccuracy of ~$1000 due to the quality of our dataset for testing and training.  \n",
    "\n",
    "Almost all of the categorical data present in the dataset has been mapped with an algorithm that wasn't given to us, so we have very few options in terms of fixing the error. "
   ]
  },
  {
   "cell_type": "markdown",
   "metadata": {},
   "source": [
    "Let's plot the error values of each algorithm to visualize the differences between them."
   ]
  },
  {
   "cell_type": "code",
   "execution_count": 33,
   "metadata": {},
   "outputs": [
    {
     "data": {
      "text/html": [
       "<div>\n",
       "<style scoped>\n",
       "    .dataframe tbody tr th:only-of-type {\n",
       "        vertical-align: middle;\n",
       "    }\n",
       "\n",
       "    .dataframe tbody tr th {\n",
       "        vertical-align: top;\n",
       "    }\n",
       "\n",
       "    .dataframe thead th {\n",
       "        text-align: right;\n",
       "    }\n",
       "</style>\n",
       "<table border=\"1\" class=\"dataframe\">\n",
       "  <thead>\n",
       "    <tr style=\"text-align: right;\">\n",
       "      <th></th>\n",
       "      <th>Algorithms</th>\n",
       "      <th>RMSE</th>\n",
       "    </tr>\n",
       "  </thead>\n",
       "  <tbody>\n",
       "    <tr>\n",
       "      <th>0</th>\n",
       "      <td>XGBoost</td>\n",
       "      <td>2467.792951</td>\n",
       "    </tr>\n",
       "    <tr>\n",
       "      <th>1</th>\n",
       "      <td>DecisionTree</td>\n",
       "      <td>2475.468804</td>\n",
       "    </tr>\n",
       "    <tr>\n",
       "      <th>2</th>\n",
       "      <td>RandomForest</td>\n",
       "      <td>2447.228282</td>\n",
       "    </tr>\n",
       "    <tr>\n",
       "      <th>3</th>\n",
       "      <td>KNN</td>\n",
       "      <td>2781.807807</td>\n",
       "    </tr>\n",
       "  </tbody>\n",
       "</table>\n",
       "</div>"
      ],
      "text/plain": [
       "     Algorithms         RMSE\n",
       "0       XGBoost  2467.792951\n",
       "1  DecisionTree  2475.468804\n",
       "2  RandomForest  2447.228282\n",
       "3           KNN  2781.807807"
      ]
     },
     "metadata": {},
     "output_type": "display_data"
    },
    {
     "data": {
      "image/png": "[encoded data removed]",
      "text/plain": [
       "<Figure size 1080x360 with 1 Axes>"
      ]
     },
     "metadata": {
      "needs_background": "light"
     },
     "output_type": "display_data"
    }
   ],
   "source": [
    "import matplotlib.pyplot as plt\n",
    "\n",
    "fig, (ax1) = plt.subplots(ncols=1, sharey=True,figsize=(15,5))\n",
    "\n",
    "new_df=pd.DataFrame(list(accuracy.items()),columns=['Algorithms','RMSE'])\n",
    "display(new_df)\n",
    "sns.barplot(x=\"Algorithms\", y=\"RMSE\", data=new_df,ax=ax1);"
   ]
  },
  {
   "cell_type": "markdown",
   "metadata": {},
   "source": [
    "From the above graph, we can see that the error reaches an average of around $2455 for XGBoost, DecisionTree, and RandomForest. KNearestNeighbors algorithm has a higher error though, since the presence of outliers is more likely to affect KNN than the other 3. "
   ]
  },
  {
   "cell_type": "markdown",
   "metadata": {},
   "source": [
    "We select the lowest RMSE value and save it for later use. "
   ]
  },
  {
   "cell_type": "code",
   "execution_count": 37,
   "metadata": {},
   "outputs": [
    {
     "data": {
      "text/plain": [
       "'RandomForest'"
      ]
     },
     "execution_count": 37,
     "metadata": {},
     "output_type": "execute_result"
    }
   ],
   "source": [
    "max_accuracy = min(accuracy,key=accuracy.get)\n",
    "\n",
    "max_accuracy"
   ]
  },
  {
   "cell_type": "markdown",
   "metadata": {},
   "source": [
    "# Conclusion"
   ]
  },
  {
   "cell_type": "markdown",
   "metadata": {},
   "source": [
    "In this notebook, we analyzed retail spending data and tried to predict the amount a customer would spend, given items such as Marital Status, Age, and Product Category.  \n",
    "\n",
    "While our spending prediction model wasn't very accurate, we did see some unique patterns in Black Friday spending. For example, men purchase significantly more on Black Friday than women do. This may be due to a lack of marketing campaign for women's products on Black Friday.  \n",
    "\n",
    "Another insight came from the age demographics, which show that people between ages 26-35 purchase significantly more than other age groups on Black Friday. This could lead to shifts in products catering toward that age demographic.  \n",
    "\n",
    "We also saw that some product categories significantly outperformed other categories on Black Friday. Since we don't have the categorical data mappings, we can't accurately tell what the actual category is, but if technology was high in demand, stores like Best Buy could emphasize more sales on Black Friday to boost income. If stores like TJ Maxx had product categories that didn't perform well, they could add more lucrative sales to that product type in order to entice more sales in an untapped market.  \n",
    "\n",
    "Regardless of results, this notebook shows the power of data analysis, and how impactful it is on making smart business decisions. Instead of making blind guesses using small talk and untruthfully answered surveys, businesses can simply analyze their own sales data to gain key insights on what works for their business, and what doesn't work. \n",
    "\n",
    "Cocolevio's data analytics experience can help you get the most out of your data. Find out what your customers want, and don't want, using our powerful automated machine learning tool, 5411. "
   ]
  },
  {
   "cell_type": "markdown",
   "metadata": {},
   "source": [
    "# Credits"
   ]
  },
  {
   "cell_type": "markdown",
   "metadata": {},
   "source": [
    "Thanks again to the people I've mentioned in the introduction for providing this dataset, and to the Kaggle community for teaching me a lot of what allowed me to do this analysis. "
   ]
  },
  {
   "cell_type": "markdown",
   "metadata": {},
   "source": [
    "Even though our model prediction was not very good, the EDA section still revealed some interesting trends. On average, significantly more males are purchasing items on Black Friday compared to females. Likewise, products in category 9 sell significantly more than the other products."
   ]
  },
  {
   "cell_type": "markdown",
   "metadata": {},
   "source": [
    "While our model may not be extremely useful, our data analysis was the critical component for retailers. "
   ]
  }
 ],
 "metadata": {
  "kernelspec": {
   "display_name": "Python 3",
   "language": "python",
   "name": "python3"
  },
  "language_info": {
   "codemirror_mode": {
    "name": "ipython",
    "version": 3
   },
   "file_extension": ".py",
   "mimetype": "text/x-python",
   "name": "python",
   "nbconvert_exporter": "python",
   "pygments_lexer": "ipython3",
   "version": "3.7.4"
  }
 },
 "nbformat": 4,
 "nbformat_minor": 2
}
